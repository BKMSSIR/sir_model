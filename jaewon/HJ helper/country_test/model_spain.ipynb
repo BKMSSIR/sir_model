{
 "cells": [
  {
   "cell_type": "code",
   "execution_count": 80,
   "metadata": {
    "collapsed": true,
    "pycharm": {
     "is_executing": false
    }
   },
   "outputs": [],
   "source": [
    "import sys\n",
    "import os\n",
    "\n",
    "import numpy as np \n",
    "import pandas as pd \n",
    "import matplotlib.pyplot as plt\n",
    "import seaborn as sns\n",
    "from IPython.core.display import display\n",
    "from sklearn import preprocessing\n",
    "import time\n",
    "\n",
    "from datetime import datetime\n",
    "from scipy import integrate, optimize\n",
    "import warnings\n",
    "warnings.filterwarnings('ignore')\n",
    "\n",
    "from hyunjun.sir_package import sir_function as sf"
   ]
  },
  {
   "cell_type": "code",
   "execution_count": 81,
   "outputs": [
    {
     "data": {
      "text/plain": "<Figure size 432x288 with 1 Axes>",
      "image/png": "[encoded data removed]"
     },
     "metadata": {
      "needs_background": "light"
     },
     "output_type": "display_data"
    },
    {
     "name": "stdout",
     "text": [
      "Optimal parameters: beta = 46.6550876337091  and gamma =  46.43490301787703\n"
     ],
     "output_type": "stream"
    }
   ],
   "source": [
    "# \"train.csv\" 파일을 읽습니다.\n",
    "train = pd.read_csv(\"train.csv\")\n",
    "\n",
    "# Province_State 정보가 없는 경우 \"None\"으로 채워 넣습니다.\n",
    "train.Province_State.fillna(\"None\", inplace=True)\n",
    "\n",
    "spain_df = pd.DataFrame()\n",
    "spain_df['ConfirmedCases'] = train.loc[train['Country_Region'] == 'Korea, South'].ConfirmedCases.diff().fillna(0)\n",
    "\n",
    "\n",
    "spain_df = spain_df[5:]\n",
    "spain_df['day_count'] = list(range(1, len(spain_df)+1))\n",
    "\n",
    "spain_df.to_csv('korea_test.csv', sep=\" \")\n",
    "\n",
    "y_data = [i for i in spain_df.ConfirmedCases]\n",
    "x_data = spain_df.day_count\n",
    "y_data = np.array(y_data, dtype=float)\n",
    "x_data = np.array(x_data, dtype=float)\n",
    "\n",
    "# spain_population = float(46750238)\n",
    "spain_population = float(50000000)\n",
    "\n",
    "N = spain_population\n",
    "inf0 = y_data[0]\n",
    "sus0 = N - inf0\n",
    "rec0 = 0.0\n",
    "\n",
    "def sir_model(y, x, beta, gamma):\n",
    "    sus = -beta * y[0] * y[1] / N\n",
    "    rec = gamma * y[1]\n",
    "    inf = -(sus + rec)\n",
    "    return sus, inf, rec\n",
    "\n",
    "def fit_odeint(x, beta, gamma):\n",
    "    return integrate.odeint(sir_model, (sus0, inf0, rec0), x, args=(beta, gamma))[:,1]\n",
    "\n",
    "popt, pcov = optimize.curve_fit(fit_odeint, x_data, y_data)\n",
    "fitted = fit_odeint(x_data, *popt)\n",
    "\n",
    "plt.plot(x_data, y_data, 'o')\n",
    "plt.plot(x_data, fitted)\n",
    "plt.title(\"Fit of SIR model for Spain infected cases\")\n",
    "plt.ylabel(\"Population infected\")\n",
    "plt.xlabel(\"Days\")\n",
    "plt.show()\n",
    "print(\"Optimal parameters: beta =\", popt[0], \" and gamma = \", popt[1])\n"
   ],
   "metadata": {
    "collapsed": false,
    "pycharm": {
     "name": "#%%\n",
     "is_executing": false
    }
   }
  }
 ],
 "metadata": {
  "kernelspec": {
   "display_name": "PyCharm (corona)",
   "language": "python",
   "name": "pycharm-3a6ee360"
  },
  "language_info": {
   "codemirror_mode": {
    "name": "ipython",
    "version": 2
   },
   "file_extension": ".py",
   "mimetype": "text/x-python",
   "name": "python",
   "nbconvert_exporter": "python",
   "pygments_lexer": "ipython2",
   "version": "2.7.6"
  },
  "pycharm": {
   "stem_cell": {
    "cell_type": "raw",
    "source": [],
    "metadata": {
     "collapsed": false
    }
   }
  }
 },
 "nbformat": 4,
 "nbformat_minor": 0
}